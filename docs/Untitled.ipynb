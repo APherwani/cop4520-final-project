{
 "cells": [
  {
   "cell_type": "code",
   "execution_count": 21,
   "metadata": {},
   "outputs": [],
   "source": [
    "import matplotlib.pyplot as plt\n",
    "import pandas as pd\n",
    "import numpy as np"
   ]
  },
  {
   "cell_type": "code",
   "execution_count": 22,
   "metadata": {},
   "outputs": [],
   "source": [
    "df = pd.read_csv('./execution-data.csv', ',')"
   ]
  },
  {
   "cell_type": "code",
   "execution_count": 23,
   "metadata": {},
   "outputs": [
    {
     "data": {
      "text/html": [
       "<div>\n",
       "<style scoped>\n",
       "    .dataframe tbody tr th:only-of-type {\n",
       "        vertical-align: middle;\n",
       "    }\n",
       "\n",
       "    .dataframe tbody tr th {\n",
       "        vertical-align: top;\n",
       "    }\n",
       "\n",
       "    .dataframe thead th {\n",
       "        text-align: right;\n",
       "    }\n",
       "</style>\n",
       "<table border=\"1\" class=\"dataframe\">\n",
       "  <thead>\n",
       "    <tr style=\"text-align: right;\">\n",
       "      <th></th>\n",
       "      <th>File Size (GB)</th>\n",
       "      <th>Parallel Execution Time (ms)</th>\n",
       "      <th>Sequential Execution Time (ms)</th>\n",
       "      <th>Improvement</th>\n",
       "      <th>Speedup</th>\n",
       "    </tr>\n",
       "  </thead>\n",
       "  <tbody>\n",
       "    <tr>\n",
       "      <th>0</th>\n",
       "      <td>0.05</td>\n",
       "      <td>40</td>\n",
       "      <td>123</td>\n",
       "      <td>67.479675</td>\n",
       "      <td>3.075000</td>\n",
       "    </tr>\n",
       "    <tr>\n",
       "      <th>1</th>\n",
       "      <td>0.10</td>\n",
       "      <td>112</td>\n",
       "      <td>209</td>\n",
       "      <td>46.411483</td>\n",
       "      <td>1.866071</td>\n",
       "    </tr>\n",
       "    <tr>\n",
       "      <th>2</th>\n",
       "      <td>0.15</td>\n",
       "      <td>170</td>\n",
       "      <td>383</td>\n",
       "      <td>55.613577</td>\n",
       "      <td>2.252941</td>\n",
       "    </tr>\n",
       "    <tr>\n",
       "      <th>3</th>\n",
       "      <td>0.20</td>\n",
       "      <td>241</td>\n",
       "      <td>486</td>\n",
       "      <td>50.411523</td>\n",
       "      <td>2.016598</td>\n",
       "    </tr>\n",
       "    <tr>\n",
       "      <th>4</th>\n",
       "      <td>0.25</td>\n",
       "      <td>281</td>\n",
       "      <td>707</td>\n",
       "      <td>60.254597</td>\n",
       "      <td>2.516014</td>\n",
       "    </tr>\n",
       "    <tr>\n",
       "      <th>...</th>\n",
       "      <td>...</td>\n",
       "      <td>...</td>\n",
       "      <td>...</td>\n",
       "      <td>...</td>\n",
       "      <td>...</td>\n",
       "    </tr>\n",
       "    <tr>\n",
       "      <th>195</th>\n",
       "      <td>9.80</td>\n",
       "      <td>14455</td>\n",
       "      <td>21449</td>\n",
       "      <td>32.607581</td>\n",
       "      <td>1.483846</td>\n",
       "    </tr>\n",
       "    <tr>\n",
       "      <th>196</th>\n",
       "      <td>9.85</td>\n",
       "      <td>15296</td>\n",
       "      <td>22192</td>\n",
       "      <td>31.074261</td>\n",
       "      <td>1.450837</td>\n",
       "    </tr>\n",
       "    <tr>\n",
       "      <th>197</th>\n",
       "      <td>9.90</td>\n",
       "      <td>15398</td>\n",
       "      <td>21991</td>\n",
       "      <td>29.980447</td>\n",
       "      <td>1.428172</td>\n",
       "    </tr>\n",
       "    <tr>\n",
       "      <th>198</th>\n",
       "      <td>9.95</td>\n",
       "      <td>15353</td>\n",
       "      <td>22514</td>\n",
       "      <td>31.806876</td>\n",
       "      <td>1.466424</td>\n",
       "    </tr>\n",
       "    <tr>\n",
       "      <th>199</th>\n",
       "      <td>10.00</td>\n",
       "      <td>15456</td>\n",
       "      <td>27570</td>\n",
       "      <td>43.939064</td>\n",
       "      <td>1.783773</td>\n",
       "    </tr>\n",
       "  </tbody>\n",
       "</table>\n",
       "<p>200 rows × 5 columns</p>\n",
       "</div>"
      ],
      "text/plain": [
       "     File Size (GB)   Parallel Execution Time (ms)   \\\n",
       "0               0.05                             40   \n",
       "1               0.10                            112   \n",
       "2               0.15                            170   \n",
       "3               0.20                            241   \n",
       "4               0.25                            281   \n",
       "..               ...                            ...   \n",
       "195             9.80                          14455   \n",
       "196             9.85                          15296   \n",
       "197             9.90                          15398   \n",
       "198             9.95                          15353   \n",
       "199            10.00                          15456   \n",
       "\n",
       "     Sequential Execution Time (ms)  Improvement   Speedup  \n",
       "0                               123    67.479675  3.075000  \n",
       "1                               209    46.411483  1.866071  \n",
       "2                               383    55.613577  2.252941  \n",
       "3                               486    50.411523  2.016598  \n",
       "4                               707    60.254597  2.516014  \n",
       "..                              ...          ...       ...  \n",
       "195                           21449    32.607581  1.483846  \n",
       "196                           22192    31.074261  1.450837  \n",
       "197                           21991    29.980447  1.428172  \n",
       "198                           22514    31.806876  1.466424  \n",
       "199                           27570    43.939064  1.783773  \n",
       "\n",
       "[200 rows x 5 columns]"
      ]
     },
     "execution_count": 23,
     "metadata": {},
     "output_type": "execute_result"
    }
   ],
   "source": [
    "df"
   ]
  },
  {
   "cell_type": "code",
   "execution_count": 24,
   "metadata": {},
   "outputs": [
    {
     "data": {
      "text/plain": [
       "['File Size (GB) ',\n",
       " 'Parallel Execution Time (ms) ',\n",
       " 'Sequential Execution Time (ms)',\n",
       " 'Improvement',\n",
       " 'Speedup']"
      ]
     },
     "execution_count": 24,
     "metadata": {},
     "output_type": "execute_result"
    }
   ],
   "source": [
    "list(df.columns)"
   ]
  },
  {
   "cell_type": "code",
   "execution_count": 25,
   "metadata": {},
   "outputs": [],
   "source": [
    "from numpy import arange\n",
    "\n",
    "deltax = 0.025\n",
    "deltay = 5\n",
    "xrange = arange(0, 10, deltax)\n",
    "yrange = arange(20, 60, deltay)"
   ]
  },
  {
   "cell_type": "code",
   "execution_count": 26,
   "metadata": {},
   "outputs": [
    {
     "data": {
      "image/png": "[encoded data removed]",
      "text/plain": [
       "<Figure size 432x288 with 1 Axes>"
      ]
     },
     "metadata": {
      "needs_background": "light"
     },
     "output_type": "display_data"
    }
   ],
   "source": [
    "# performance improvement graph\n",
    "df.plot.scatter(x='File Size (GB) ', y='Improvement', legend=None)\n",
    "plt.ylabel('% Improvement')\n",
    "plt.savefig('execution-improvement.png')"
   ]
  },
  {
   "cell_type": "code",
   "execution_count": 27,
   "metadata": {},
   "outputs": [
    {
     "data": {
      "image/png": "[encoded data removed]",
      "text/plain": [
       "<Figure size 432x288 with 1 Axes>"
      ]
     },
     "metadata": {
      "needs_background": "light"
     },
     "output_type": "display_data"
    }
   ],
   "source": [
    "# performance improvement graph\n",
    "df.plot.scatter(x='File Size (GB) ', y='Speedup', legend=None)\n",
    "plt.ylabel('Speedup')\n",
    "plt.savefig('execution-speedup.png')"
   ]
  },
  {
   "cell_type": "code",
   "execution_count": null,
   "metadata": {},
   "outputs": [],
   "source": []
  }
 ],
 "metadata": {
  "kernelspec": {
   "display_name": "Python 3",
   "language": "python",
   "name": "python3"
  },
  "language_info": {
   "codemirror_mode": {
    "name": "ipython",
    "version": 3
   },
   "file_extension": ".py",
   "mimetype": "text/x-python",
   "name": "python",
   "nbconvert_exporter": "python",
   "pygments_lexer": "ipython3",
   "version": "3.8.5"
  }
 },
 "nbformat": 4,
 "nbformat_minor": 4
}
